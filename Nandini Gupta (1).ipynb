{
 "cells": [
  {
   "cell_type": "code",
   "execution_count": 42,
   "id": "b4edebf5",
   "metadata": {},
   "outputs": [],
   "source": [
    "#initialization\n",
    "import matplotlib.pyplot as plt\n",
    "import numpy as np\n",
    "\n",
    "# importing Qiskit\n",
    "from qiskit import IBMQ, Aer, assemble, transpile\n",
    "from qiskit import QuantumCircuit, ClassicalRegister, QuantumRegister\n",
    "from qiskit.providers.aer import QasmSimulator\n",
    "from qiskit.providers.ibmq import least_busy\n",
    "\n",
    "# import basic plot tools\n",
    "from qiskit.visualization import plot_histogram"
   ]
  },
  {
   "cell_type": "code",
   "execution_count": 43,
   "id": "66fbbfdd",
   "metadata": {},
   "outputs": [],
   "source": [
    "def Prblm(a, b, c, d, e):\n",
    "    Prblm = (a and b and (not c or (d and (not e))))\n",
    "    if Prblm == True:\n",
    "        Prblm = 1.0\n",
    "    else :\n",
    "        Prblm = 0.0\n",
    "    return Prblm\n",
    "\n",
    "n = 5\n",
    "interpret = int(np.sqrt(n))"
   ]
  },
  {
   "cell_type": "code",
   "execution_count": 44,
   "id": "94dd5ca4",
   "metadata": {},
   "outputs": [
    {
     "name": "stdout",
     "output_type": "stream",
     "text": [
      "[[ 1.  0.  0. ...  0.  0.  0.]\n",
      " [ 0.  1.  0. ...  0.  0.  0.]\n",
      " [ 0.  0.  1. ...  0.  0.  0.]\n",
      " ...\n",
      " [ 0.  0.  0. ...  1.  0.  0.]\n",
      " [ 0.  0.  0. ...  0. -1.  0.]\n",
      " [ 0.  0.  0. ...  0.  0.  1.]]\n"
     ]
    }
   ],
   "source": [
    "import numpy as np\n",
    "#matrix\n",
    "m = np.eye(32,32)    \n",
    "for a in [0,1]:\n",
    "    for b in [0,1]:\n",
    "        for c in [0,1]:\n",
    "            for d in [0,1]:\n",
    "                for e in [0,1]:\n",
    "                    p = (2**4)*a + (2**3)*b + (2**2)*c + (2**1)*d + (2**0)*e\n",
    "                    k = Prblm(a, b, c, d, e)\n",
    "                    if k == 1.0:\n",
    "                        m[p,p] = -1.0\n",
    "                    else:\n",
    "                        m[p,p] = 1.0\n",
    "print(m)"
   ]
  },
  {
   "cell_type": "code",
   "execution_count": 45,
   "id": "68c9ab89",
   "metadata": {},
   "outputs": [
    {
     "data": {
      "text/html": [
       "<pre style=\"word-wrap: normal;white-space: pre;background: #fff0;line-height: 1.1;font-family: &quot;Courier New&quot;,Courier,monospace\">     ┌─────┐\n",
       "q_0: ┤0    ├\n",
       "     │     │\n",
       "q_1: ┤1    ├\n",
       "     │     │\n",
       "q_2: ┤2 or ├\n",
       "     │     │\n",
       "q_3: ┤3    ├\n",
       "     │     │\n",
       "q_4: ┤4    ├\n",
       "     └─────┘</pre>"
      ],
      "text/plain": [
       "     ┌─────┐\n",
       "q_0: ┤0    ├\n",
       "     │     │\n",
       "q_1: ┤1    ├\n",
       "     │     │\n",
       "q_2: ┤2 or ├\n",
       "     │     │\n",
       "q_3: ┤3    ├\n",
       "     │     │\n",
       "q_4: ┤4    ├\n",
       "     └─────┘"
      ]
     },
     "execution_count": 45,
     "metadata": {},
     "output_type": "execute_result"
    }
   ],
   "source": [
    "# Oracle\n",
    "oracle = QuantumCircuit(5, name = \"Oracle\")\n",
    "oracle.unitary(m, [0,1,2,3,4], label=\"or\")\n",
    "oracle.draw()"
   ]
  },
  {
   "cell_type": "code",
   "execution_count": 46,
   "id": "67efbbf2",
   "metadata": {},
   "outputs": [
    {
     "data": {
      "text/html": [
       "<pre style=\"word-wrap: normal;white-space: pre;background: #fff0;line-height: 1.1;font-family: &quot;Courier New&quot;,Courier,monospace\">     ┌───┐┌───┐ ░                 ░ ┌───┐┌───┐\n",
       "q_0: ┤ H ├┤ X ├─░────────■────────░─┤ X ├┤ H ├\n",
       "     ├───┤├───┤ ░        │        ░ ├───┤├───┤\n",
       "q_1: ┤ H ├┤ X ├─░────────■────────░─┤ X ├┤ H ├\n",
       "     ├───┤├───┤ ░        │        ░ ├───┤├───┤\n",
       "q_2: ┤ H ├┤ X ├─░────────■────────░─┤ X ├┤ H ├\n",
       "     ├───┤├───┤ ░        │        ░ ├───┤├───┤\n",
       "q_3: ┤ H ├┤ X ├─░────────■────────░─┤ X ├┤ H ├\n",
       "     ├───┤├───┤ ░ ┌───┐┌─┴─┐┌───┐ ░ ├───┤├───┤\n",
       "q_4: ┤ H ├┤ X ├─░─┤ H ├┤ X ├┤ H ├─░─┤ X ├┤ H ├\n",
       "     └───┘└───┘ ░ └───┘└───┘└───┘ ░ └───┘└───┘</pre>"
      ],
      "text/plain": [
       "     ┌───┐┌───┐ ░                 ░ ┌───┐┌───┐\n",
       "q_0: ┤ H ├┤ X ├─░────────■────────░─┤ X ├┤ H ├\n",
       "     ├───┤├───┤ ░        │        ░ ├───┤├───┤\n",
       "q_1: ┤ H ├┤ X ├─░────────■────────░─┤ X ├┤ H ├\n",
       "     ├───┤├───┤ ░        │        ░ ├───┤├───┤\n",
       "q_2: ┤ H ├┤ X ├─░────────■────────░─┤ X ├┤ H ├\n",
       "     ├───┤├───┤ ░        │        ░ ├───┤├───┤\n",
       "q_3: ┤ H ├┤ X ├─░────────■────────░─┤ X ├┤ H ├\n",
       "     ├───┤├───┤ ░ ┌───┐┌─┴─┐┌───┐ ░ ├───┤├───┤\n",
       "q_4: ┤ H ├┤ X ├─░─┤ H ├┤ X ├┤ H ├─░─┤ X ├┤ H ├\n",
       "     └───┘└───┘ ░ └───┘└───┘└───┘ ░ └───┘└───┘"
      ]
     },
     "execution_count": 46,
     "metadata": {},
     "output_type": "execute_result"
    }
   ],
   "source": [
    "#Diffuser\n",
    "reflection = QuantumCircuit(5,name='reflection')\n",
    "reflection.h([0,1,2,3,4])\n",
    "reflection.x([0,1,2,3,4])\n",
    "reflection.barrier()\n",
    "reflection.h([4])\n",
    "reflection.mct(list(range(4)), 4) \n",
    "reflection.h(4)\n",
    "reflection.barrier()\n",
    "reflection.x([0,1,2,3,4]) \n",
    "reflection.h([0,1,2,3,4]) \n",
    "reflection.draw()"
   ]
  },
  {
   "cell_type": "code",
   "execution_count": 47,
   "id": "d9fbb6f9",
   "metadata": {},
   "outputs": [
    {
     "data": {
      "text/html": [
       "<pre style=\"word-wrap: normal;white-space: pre;background: #fff0;line-height: 1.1;font-family: &quot;Courier New&quot;,Courier,monospace\">        ┌───┐┌─────────┐┌─────────────┐ ░ ┌─┐            \n",
       "   q_0: ┤ H ├┤0        ├┤0            ├─░─┤M├────────────\n",
       "        ├───┤│         ││             │ ░ └╥┘┌─┐         \n",
       "   q_1: ┤ H ├┤1        ├┤1            ├─░──╫─┤M├─────────\n",
       "        ├───┤│         ││             │ ░  ║ └╥┘┌─┐      \n",
       "   q_2: ┤ H ├┤2 Oracle ├┤2 reflection ├─░──╫──╫─┤M├──────\n",
       "        ├───┤│         ││             │ ░  ║  ║ └╥┘┌─┐   \n",
       "   q_3: ┤ H ├┤3        ├┤3            ├─░──╫──╫──╫─┤M├───\n",
       "        ├───┤│         ││             │ ░  ║  ║  ║ └╥┘┌─┐\n",
       "   q_4: ┤ H ├┤4        ├┤4            ├─░──╫──╫──╫──╫─┤M├\n",
       "        └───┘└─────────┘└─────────────┘ ░  ║  ║  ║  ║ └╥┘\n",
       "meas: 5/═══════════════════════════════════╩══╩══╩══╩══╩═\n",
       "                                           0  1  2  3  4 </pre>"
      ],
      "text/plain": [
       "        ┌───┐┌─────────┐┌─────────────┐ ░ ┌─┐            \n",
       "   q_0: ┤ H ├┤0        ├┤0            ├─░─┤M├────────────\n",
       "        ├───┤│         ││             │ ░ └╥┘┌─┐         \n",
       "   q_1: ┤ H ├┤1        ├┤1            ├─░──╫─┤M├─────────\n",
       "        ├───┤│         ││             │ ░  ║ └╥┘┌─┐      \n",
       "   q_2: ┤ H ├┤2 Oracle ├┤2 reflection ├─░──╫──╫─┤M├──────\n",
       "        ├───┤│         ││             │ ░  ║  ║ └╥┘┌─┐   \n",
       "   q_3: ┤ H ├┤3        ├┤3            ├─░──╫──╫──╫─┤M├───\n",
       "        ├───┤│         ││             │ ░  ║  ║  ║ └╥┘┌─┐\n",
       "   q_4: ┤ H ├┤4        ├┤4            ├─░──╫──╫──╫──╫─┤M├\n",
       "        └───┘└─────────┘└─────────────┘ ░  ║  ║  ║  ║ └╥┘\n",
       "meas: 5/═══════════════════════════════════╩══╩══╩══╩══╩═\n",
       "                                           0  1  2  3  4 "
      ]
     },
     "execution_count": 47,
     "metadata": {},
     "output_type": "execute_result"
    }
   ],
   "source": [
    "g_circuit = QuantumCircuit(5)\n",
    "g_circuit.h([0,1,2,3,4])\n",
    "for i in range(1):\n",
    "    g_circuit.append(oracle, [0,1,2,3,4])\n",
    "    g_circuit.append(reflection, [0,1,2,3,4])\n",
    "\n",
    "g_circuit.measure_all()\n",
    "g_circuit.draw()"
   ]
  },
  {
   "cell_type": "code",
   "execution_count": 41,
   "id": "74233355",
   "metadata": {},
   "outputs": [
    {
     "data": {
      "image/png": "[encoded data removed]",
      "text/plain": [
       "<Figure size 504x360 with 1 Axes>"
      ]
     },
     "execution_count": 41,
     "metadata": {},
     "output_type": "execute_result"
    }
   ],
   "source": [
    "sim_aer = Aer.get_backend('aer_simulator')\n",
    "g_circuit = transpile(g_circuit, sim_aer)\n",
    "qobj = assemble(g_circuit)\n",
    "results = sim_aer.run(qobj).result()\n",
    "counts = results.get_counts()\n",
    "plot_histogram(counts)"
   ]
  }
 ],
 "metadata": {
  "kernelspec": {
   "display_name": "Python 3 (ipykernel)",
   "language": "python",
   "name": "python3"
  },
  "language_info": {
   "codemirror_mode": {
    "name": "ipython",
    "version": 3
   },
   "file_extension": ".py",
   "mimetype": "text/x-python",
   "name": "python",
   "nbconvert_exporter": "python",
   "pygments_lexer": "ipython3",
   "version": "3.9.12"
  }
 },
 "nbformat": 4,
 "nbformat_minor": 5
}
